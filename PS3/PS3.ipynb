{
 "cells": [
  {
   "cell_type": "markdown",
   "metadata": {},
   "source": [
    "Part 1: Image classification\n",
    "\n",
    "    1. Set your random seed to 1234"
   ]
  },
  {
   "cell_type": "code",
   "execution_count": 1,
   "metadata": {},
   "outputs": [
    {
     "name": "stderr",
     "output_type": "stream",
     "text": [
      "/software/Anaconda3-5.0.1-el7-x86_64/lib/python3.6/site-packages/h5py/__init__.py:36: FutureWarning: Conversion of the second argument of issubdtype from `float` to `np.floating` is deprecated. In future, it will be treated as `np.float64 == np.dtype(float).type`.\n",
      "  from ._conv import register_converters as _register_converters\n",
      "Using TensorFlow backend.\n"
     ]
    }
   ],
   "source": [
    "# import random\n",
    "# random.seed(1234)\n",
    "\n",
    "# import numpy as np\n",
    "# import matplotlib.pyplot as plt\n",
    "\n",
    "# from keras.datasets import mnist\n",
    "# from keras.models import Sequential\n",
    "# from keras.layers.core import Dense, Dropout, Activation\n",
    "# from keras.utils import np_utils\n",
    "\n",
    "# from sklearn.model_selection import train_test_split"
   ]
  },
  {
   "cell_type": "markdown",
   "metadata": {},
   "source": [
    "2.Load the MNIST dataset"
   ]
  },
  {
   "cell_type": "code",
   "execution_count": 23,
   "metadata": {},
   "outputs": [],
   "source": [
    "# nb_classes = 10\n",
    "\n",
    "# (X_train, y_train), (X_test, y_test) = mnist.load_data() \n",
    "\n",
    "# X_train = X_train.reshape(60000, 784).astype('float32') / 255\n",
    "# X_test = X_test.reshape(10000, 784).astype('float32') / 255\n",
    "\n",
    "# Y_train = np_utils.to_categorical(y_train, nb_classes)\n",
    "# Y_test = np_utils.to_categorical(y_test, nb_classes)\n",
    "\n",
    "# X_train, X_valid, Y_train, Y_valid = train_test_split(X_train, Y_train, test_size = 0.16666, random_state = 1234)"
   ]
  },
  {
   "cell_type": "markdown",
   "metadata": {},
   "source": [
    "3.Implement a series of neural network models\n",
    "\n",
    "    i.Initial test"
   ]
  },
  {
   "cell_type": "code",
   "execution_count": null,
   "metadata": {},
   "outputs": [],
   "source": [
    "# model = Sequential()\n",
    "# model.add(Dense(512, input_shape=(784,)))\n",
    "# model.add(Activation('relu')) # An \"activation\" is just a non-linear function applied to the output\n",
    "#                               # of the layer above. Here, with a \"rectified linear unit\",\n",
    "#                               # we clamp all values below 0 to 0.\n",
    "                           \n",
    "# model.add(Dropout(0.2))   # Dropout helps protect the model from memorizing or \"overfitting\" the training data, #防止过拟合\n",
    "# model.add(Dense(512))\n",
    "# model.add(Activation('relu'))\n",
    "# model.add(Dropout(0.2))\n",
    "# model.add(Dense(10))\n",
    "# model.add(Activation('softmax')) # This special \"softmax\" activation among other things,\n",
    "#                                  # ensures the output is a valid probaility distribution, that is\n",
    "#                                  # that its values are all non-negative and sum to 1."
   ]
  },
  {
   "cell_type": "code",
   "execution_count": 1,
   "metadata": {},
   "outputs": [
    {
     "name": "stderr",
     "output_type": "stream",
     "text": [
      "/software/Anaconda3-5.0.1-el7-x86_64/lib/python3.6/site-packages/h5py/__init__.py:36: FutureWarning: Conversion of the second argument of issubdtype from `float` to `np.floating` is deprecated. In future, it will be treated as `np.float64 == np.dtype(float).type`.\n",
      "  from ._conv import register_converters as _register_converters\n",
      "Using TensorFlow backend.\n"
     ]
    }
   ],
   "source": [
    "import random\n",
    "from keras.datasets import mnist\n",
    "from keras import models\n",
    "from keras import layers\n",
    "from keras.utils import to_categorical\n",
    "from sklearn.model_selection import train_test_split\n",
    "\n",
    "random.seed(1234)\n",
    "(train_images, train_labels), (test_images, test_labels) = mnist.load_data()\n",
    "train_images = train_images.reshape((60000, 28 * 28)).astype('float32') / 255\n",
    "test_images = test_images.reshape((10000, 28 * 28)).astype('float32') / 255\n",
    "train_labels = to_categorical(train_labels)\n",
    "test_labels = to_categorical(test_labels)\n",
    "\n",
    "train_images, valid_images, train_labels, valid_labels = \\\n",
    "    train_test_split(train_images, train_labels, test_size = 0.16666, random_state = 1234)"
   ]
  },
  {
   "cell_type": "code",
   "execution_count": 7,
   "metadata": {},
   "outputs": [
    {
     "name": "stdout",
     "output_type": "stream",
     "text": [
      "Train on 50000 samples, validate on 10000 samples\n",
      "Epoch 1/50\n",
      "50000/50000 [==============================] - 10s 190us/step - loss: 14.2084 - acc: 0.1024 - val_loss: 14.2355 - val_acc: 0.1168\n",
      "Epoch 2/50\n",
      "50000/50000 [==============================] - 9s 187us/step - loss: 14.3213 - acc: 0.1115 - val_loss: 14.2355 - val_acc: 0.1168\n",
      "Epoch 3/50\n",
      "50000/50000 [==============================] - 9s 186us/step - loss: 14.3213 - acc: 0.1115 - val_loss: 14.2355 - val_acc: 0.1168\n",
      "Epoch 4/50\n",
      "50000/50000 [==============================] - 9s 186us/step - loss: 14.3213 - acc: 0.1115 - val_loss: 14.2355 - val_acc: 0.1168\n",
      "Epoch 5/50\n",
      "50000/50000 [==============================] - 9s 187us/step - loss: 14.3213 - acc: 0.1115 - val_loss: 14.2355 - val_acc: 0.1168\n",
      "Epoch 6/50\n",
      "50000/50000 [==============================] - 9s 186us/step - loss: 14.3213 - acc: 0.1115 - val_loss: 14.2355 - val_acc: 0.1168\n",
      "Epoch 7/50\n",
      "50000/50000 [==============================] - 9s 186us/step - loss: 14.3213 - acc: 0.1115 - val_loss: 14.2355 - val_acc: 0.1168\n",
      "Epoch 8/50\n",
      "50000/50000 [==============================] - 9s 186us/step - loss: 14.3213 - acc: 0.1115 - val_loss: 14.2355 - val_acc: 0.1168\n",
      "Epoch 9/50\n",
      "50000/50000 [==============================] - 9s 189us/step - loss: 14.3213 - acc: 0.1115 - val_loss: 14.2355 - val_acc: 0.1168\n",
      "Epoch 10/50\n",
      "50000/50000 [==============================] - 10s 193us/step - loss: 14.3213 - acc: 0.1115 - val_loss: 14.2355 - val_acc: 0.1168\n",
      "Epoch 11/50\n",
      "50000/50000 [==============================] - 10s 196us/step - loss: 14.3213 - acc: 0.1115 - val_loss: 14.2355 - val_acc: 0.1168\n",
      "Epoch 12/50\n",
      "50000/50000 [==============================] - 10s 199us/step - loss: 14.3213 - acc: 0.1115 - val_loss: 14.2355 - val_acc: 0.1168\n",
      "Epoch 13/50\n",
      "50000/50000 [==============================] - 9s 184us/step - loss: 14.3213 - acc: 0.1115 - val_loss: 14.2355 - val_acc: 0.1168\n",
      "Epoch 14/50\n",
      "50000/50000 [==============================] - 9s 184us/step - loss: 14.3213 - acc: 0.1115 - val_loss: 14.2355 - val_acc: 0.1168\n",
      "Epoch 15/50\n",
      "50000/50000 [==============================] - 9s 184us/step - loss: 14.3213 - acc: 0.1115 - val_loss: 14.2355 - val_acc: 0.1168\n",
      "Epoch 16/50\n",
      "50000/50000 [==============================] - 9s 184us/step - loss: 14.3213 - acc: 0.1115 - val_loss: 14.2355 - val_acc: 0.1168\n",
      "Epoch 17/50\n",
      "50000/50000 [==============================] - 9s 183us/step - loss: 14.3213 - acc: 0.1115 - val_loss: 14.2355 - val_acc: 0.1168\n",
      "Epoch 18/50\n",
      "50000/50000 [==============================] - 9s 184us/step - loss: 14.3213 - acc: 0.1115 - val_loss: 14.2355 - val_acc: 0.1168\n",
      "Epoch 19/50\n",
      "50000/50000 [==============================] - 9s 184us/step - loss: 14.3213 - acc: 0.1115 - val_loss: 14.2355 - val_acc: 0.1168\n",
      "Epoch 20/50\n",
      "50000/50000 [==============================] - 9s 184us/step - loss: 14.3213 - acc: 0.1115 - val_loss: 14.2355 - val_acc: 0.1168\n",
      "Epoch 21/50\n",
      "50000/50000 [==============================] - 9s 184us/step - loss: 14.3213 - acc: 0.1115 - val_loss: 14.2355 - val_acc: 0.1168\n",
      "Epoch 22/50\n",
      "50000/50000 [==============================] - 9s 183us/step - loss: 14.3213 - acc: 0.1115 - val_loss: 14.2355 - val_acc: 0.1168\n",
      "Epoch 23/50\n",
      "50000/50000 [==============================] - 9s 183us/step - loss: 14.3213 - acc: 0.1115 - val_loss: 14.2355 - val_acc: 0.1168\n",
      "Epoch 24/50\n",
      "50000/50000 [==============================] - 9s 183us/step - loss: 14.3213 - acc: 0.1115 - val_loss: 14.2355 - val_acc: 0.1168\n",
      "Epoch 25/50\n",
      "50000/50000 [==============================] - 9s 184us/step - loss: 14.3213 - acc: 0.1115 - val_loss: 14.2355 - val_acc: 0.1168\n",
      "Epoch 26/50\n",
      "50000/50000 [==============================] - 9s 183us/step - loss: 14.3213 - acc: 0.1115 - val_loss: 14.2355 - val_acc: 0.1168\n",
      "Epoch 27/50\n",
      "50000/50000 [==============================] - 9s 181us/step - loss: 14.3213 - acc: 0.1115 - val_loss: 14.2355 - val_acc: 0.1168\n",
      "Epoch 28/50\n",
      "50000/50000 [==============================] - 9s 180us/step - loss: 14.3213 - acc: 0.1115 - val_loss: 14.2355 - val_acc: 0.1168\n",
      "Epoch 29/50\n",
      "50000/50000 [==============================] - 9s 180us/step - loss: 14.3213 - acc: 0.1115 - val_loss: 14.2355 - val_acc: 0.1168\n",
      "Epoch 30/50\n",
      "50000/50000 [==============================] - 9s 180us/step - loss: 14.3213 - acc: 0.1115 - val_loss: 14.2355 - val_acc: 0.1168\n",
      "Epoch 31/50\n",
      "50000/50000 [==============================] - 9s 180us/step - loss: 14.3213 - acc: 0.1115 - val_loss: 14.2355 - val_acc: 0.1168\n",
      "Epoch 32/50\n",
      "50000/50000 [==============================] - 9s 181us/step - loss: 14.3213 - acc: 0.1115 - val_loss: 14.2355 - val_acc: 0.1168\n",
      "Epoch 33/50\n",
      "50000/50000 [==============================] - 9s 180us/step - loss: 14.3213 - acc: 0.1115 - val_loss: 14.2355 - val_acc: 0.1168\n",
      "Epoch 34/50\n",
      "50000/50000 [==============================] - 9s 181us/step - loss: 14.3213 - acc: 0.1115 - val_loss: 14.2355 - val_acc: 0.1168\n",
      "Epoch 35/50\n",
      "50000/50000 [==============================] - 9s 180us/step - loss: 14.3213 - acc: 0.1115 - val_loss: 14.2355 - val_acc: 0.1168\n",
      "Epoch 36/50\n",
      "50000/50000 [==============================] - 9s 180us/step - loss: 14.3213 - acc: 0.1115 - val_loss: 14.2355 - val_acc: 0.1168\n",
      "Epoch 37/50\n",
      "50000/50000 [==============================] - 9s 180us/step - loss: 14.3213 - acc: 0.1115 - val_loss: 14.2355 - val_acc: 0.1168\n",
      "Epoch 38/50\n",
      "50000/50000 [==============================] - 9s 180us/step - loss: 14.3213 - acc: 0.1115 - val_loss: 14.2355 - val_acc: 0.1168\n",
      "Epoch 39/50\n",
      "50000/50000 [==============================] - 9s 182us/step - loss: 14.3213 - acc: 0.1115 - val_loss: 14.2355 - val_acc: 0.1168\n",
      "Epoch 40/50\n",
      "50000/50000 [==============================] - 9s 180us/step - loss: 14.3213 - acc: 0.1115 - val_loss: 14.2355 - val_acc: 0.1168\n",
      "Epoch 41/50\n",
      "50000/50000 [==============================] - 9s 181us/step - loss: 14.3213 - acc: 0.1115 - val_loss: 14.2355 - val_acc: 0.1168\n",
      "Epoch 42/50\n",
      "50000/50000 [==============================] - 9s 181us/step - loss: 14.3213 - acc: 0.1115 - val_loss: 14.2355 - val_acc: 0.1168\n",
      "Epoch 43/50\n",
      "50000/50000 [==============================] - 9s 180us/step - loss: 14.3213 - acc: 0.1115 - val_loss: 14.2355 - val_acc: 0.1168\n",
      "Epoch 44/50\n",
      "50000/50000 [==============================] - 9s 181us/step - loss: 14.3213 - acc: 0.1115 - val_loss: 14.2355 - val_acc: 0.1168\n",
      "Epoch 45/50\n",
      "50000/50000 [==============================] - 9s 180us/step - loss: 14.3213 - acc: 0.1115 - val_loss: 14.2355 - val_acc: 0.1168\n",
      "Epoch 46/50\n",
      "50000/50000 [==============================] - 10s 198us/step - loss: 14.3213 - acc: 0.1115 - val_loss: 14.2355 - val_acc: 0.1168\n",
      "Epoch 47/50\n",
      "50000/50000 [==============================] - 10s 195us/step - loss: 14.3213 - acc: 0.1115 - val_loss: 14.2355 - val_acc: 0.1168\n",
      "Epoch 48/50\n",
      "50000/50000 [==============================] - 9s 180us/step - loss: 14.3213 - acc: 0.1115 - val_loss: 14.2355 - val_acc: 0.1168\n",
      "Epoch 49/50\n",
      "50000/50000 [==============================] - 9s 180us/step - loss: 14.3213 - acc: 0.1115 - val_loss: 14.2355 - val_acc: 0.1168\n",
      "Epoch 50/50\n",
      "50000/50000 [==============================] - 9s 180us/step - loss: 14.3213 - acc: 0.1115 - val_loss: 14.2355 - val_acc: 0.1168\n"
     ]
    }
   ],
   "source": [
    "network = models.Sequential()\n",
    "network.add(layers.Dense(512, activation='relu', input_shape=(28 * 28,)))\n",
    "network.add(layers.Dense(512, activation='relu'))\n",
    "network.add(layers.Dense(512, activation='relu'))\n",
    "network.add(layers.Dense(512, activation='relu'))\n",
    "network.add(layers.Dense(10, activation='softmax'))\n",
    "network.compile(optimizer='rmsprop', loss='categorical_crossentropy', metrics=['accuracy'])\n",
    "result = network.fit(train_images, train_labels,validation_data=(valid_images,valid_labels), epochs=50, batch_size=512)"
   ]
  },
  {
   "cell_type": "code",
   "execution_count": null,
   "metadata": {},
   "outputs": [],
   "source": []
  },
  {
   "cell_type": "code",
   "execution_count": null,
   "metadata": {},
   "outputs": [],
   "source": []
  },
  {
   "cell_type": "code",
   "execution_count": 3,
   "metadata": {},
   "outputs": [
    {
     "name": "stdout",
     "output_type": "stream",
     "text": [
      "_________________________________________________________________\n",
      "Layer (type)                 Output Shape              Param #   \n",
      "=================================================================\n",
      "dense_1 (Dense)              (None, 512)               401920    \n",
      "_________________________________________________________________\n",
      "dense_2 (Dense)              (None, 512)               262656    \n",
      "_________________________________________________________________\n",
      "dense_3 (Dense)              (None, 512)               262656    \n",
      "_________________________________________________________________\n",
      "dense_4 (Dense)              (None, 512)               262656    \n",
      "_________________________________________________________________\n",
      "dense_5 (Dense)              (None, 10)                5130      \n",
      "=================================================================\n",
      "Total params: 1,195,018\n",
      "Trainable params: 1,195,018\n",
      "Non-trainable params: 0\n",
      "_________________________________________________________________\n"
     ]
    }
   ],
   "source": [
    "network.summary()"
   ]
  },
  {
   "cell_type": "code",
   "execution_count": null,
   "metadata": {},
   "outputs": [],
   "source": [
    "valid_loss, valid_acc = network.evaluate(valid_images, valid_labels)"
   ]
  },
  {
   "cell_type": "code",
   "execution_count": 44,
   "metadata": {},
   "outputs": [
    {
     "data": {
      "image/png": "[encoded data removed]",
      "text/plain": [
       "<Figure size 432x288 with 1 Axes>"
      ]
     },
     "metadata": {},
     "output_type": "display_data"
    }
   ],
   "source": [
    "loss = history.history['loss']\n",
    "val_loss = result.history['val_loss']\n",
    "plt.plot(loss)\n",
    "plt.plot(val_loss)\n",
    "plt.legend(['loss', 'val_loss'])\n",
    "plt.show()"
   ]
  },
  {
   "cell_type": "markdown",
   "metadata": {},
   "source": [
    "ii. Implement dropout"
   ]
  },
  {
   "cell_type": "code",
   "execution_count": null,
   "metadata": {},
   "outputs": [],
   "source": []
  },
  {
   "cell_type": "code",
   "execution_count": null,
   "metadata": {},
   "outputs": [],
   "source": []
  }
 ],
 "metadata": {
  "kernelspec": {
   "display_name": "Python [default]",
   "language": "python",
   "name": "python3"
  },
  "language_info": {
   "codemirror_mode": {
    "name": "ipython",
    "version": 3
   },
   "file_extension": ".py",
   "mimetype": "text/x-python",
   "name": "python",
   "nbconvert_exporter": "python",
   "pygments_lexer": "ipython3",
   "version": "3.6.3"
  }
 },
 "nbformat": 4,
 "nbformat_minor": 2
}
