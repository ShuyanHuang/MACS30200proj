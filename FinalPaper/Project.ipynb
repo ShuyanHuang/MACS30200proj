{
 "cells": [
  {
   "cell_type": "code",
   "execution_count": null,
   "metadata": {},
   "outputs": [],
   "source": [
    "# import pandas as pd\n",
    "# follower = pd.read_csv('./follower.csv', header = None, engine ='python')\n",
    "# follower.columns = ['user', 'follower']"
   ]
  },
  {
   "cell_type": "code",
   "execution_count": 2,
   "metadata": {},
   "outputs": [],
   "source": [
    "import pandas as pd\n",
    "import numpy as np\n",
    "\n",
    "users_info = pd.read_csv('./users_info.csv', header = None, delimiter = ',', engine ='python', encoding='utf-8')\n",
    "users_info = users_info.reset_index()\n",
    "\n",
    "users_info.columns = ['name', 'address', 'education', 'company', 'job', 'headline', 'user_id', \n",
    "                      'answer','question', 'article', 'favorite', 'agree', 'thanked', 'following',\n",
    "                      'followers','topic', 'columns', 'sex', 'updatetime', 'weibo', 'token', \n",
    "                      'index_url','dump']\n",
    "users_info.drop(columns = ['updatetime', 'token', 'dump'], inplace = True)\n",
    "users_info.dropna(subset= ['user_id', \"index_url\"], how='any', inplace = True)\n",
    "\n",
    "users_info.loc[users_info[\"headline\"].isna() == False, \"headline\"] = 1\n",
    "users_info.loc[users_info[\"weibo\"].isna() == False, \"weibo\"] = 1\n",
    "users_info.update(users_info[['headline','answer', 'question', 'article', 'favorite', 'agree', 'thanked', 'following', \n",
    "                      'followers', 'topic', 'columns', 'weibo']].fillna(0))\n",
    "\n",
    "users_info['address'] = users_info['address'].str.replace('市','')\n",
    "users_info['sex'] = users_info['sex'].str.replace('女','0')\n",
    "users_info['sex'] = users_info['sex'].str.replace('男','1')\n",
    "\n",
    "users_info[['answer','question', 'article', 'favorite', 'agree', 'thanked', 'following','followers','topic']] = \\\n",
    "users_info[['answer','question', 'article', 'favorite', 'agree', 'thanked', 'following','followers','topic']].astype(np. int64)\n",
    "users_info[['headline', 'columns', 'sex', 'weibo']] = users_info[['headline', 'columns', 'sex', 'weibo']].apply(pd.to_numeric)\n",
    "\n",
    "users_info.drop(columns = ['address', 'education', 'company', 'job', 'index_url'], inplace = True)\n",
    "users_info.set_index('user_id', inplace=True)"
   ]
  },
  {
   "cell_type": "code",
   "execution_count": 30,
   "metadata": {},
   "outputs": [
    {
     "data": {
      "text/plain": [
       "0    329216\n",
       "1     91733\n",
       "Name: weibo, dtype: int64"
      ]
     },
     "execution_count": 30,
     "metadata": {},
     "output_type": "execute_result"
    }
   ],
   "source": [
    "users_info['address'].value_counts().head(5)"
   ]
  },
  {
   "cell_type": "code",
   "execution_count": 7,
   "metadata": {},
   "outputs": [
    {
     "data": {
      "image/png": "[encoded data removed]",
      "text/plain": [
       "<Figure size 720x576 with 2 Axes>"
      ]
     },
     "metadata": {},
     "output_type": "display_data"
    }
   ],
   "source": [
    "import seaborn as sns\n",
    "import matplotlib.pyplot as plt\n",
    "%matplotlib inline\n",
    "\n",
    "f, ax = plt.subplots(figsize=(10, 8))\n",
    "corr = users_info.corr()\n",
    "sns_corr = sns.heatmap(corr, mask=np.zeros_like(corr, dtype=np.bool), square=True, ax=ax).\\\n",
    "    set_title('Correlation between different aspects of account activities')\n",
    "fig = sns_corr.get_figure()\n",
    "fig.savefig(\"corr.png\")"
   ]
  },
  {
   "cell_type": "code",
   "execution_count": 48,
   "metadata": {},
   "outputs": [
    {
     "data": {
      "text/html": [
       "<div>\n",
       "<style scoped>\n",
       "    .dataframe tbody tr th:only-of-type {\n",
       "        vertical-align: middle;\n",
       "    }\n",
       "\n",
       "    .dataframe tbody tr th {\n",
       "        vertical-align: top;\n",
       "    }\n",
       "\n",
       "    .dataframe thead th {\n",
       "        text-align: right;\n",
       "    }\n",
       "</style>\n",
       "<table border=\"1\" class=\"dataframe\">\n",
       "  <thead>\n",
       "    <tr style=\"text-align: right;\">\n",
       "      <th></th>\n",
       "      <th>headline</th>\n",
       "      <th>answer</th>\n",
       "      <th>question</th>\n",
       "      <th>article</th>\n",
       "      <th>favorite</th>\n",
       "      <th>agree</th>\n",
       "      <th>thanked</th>\n",
       "      <th>following</th>\n",
       "      <th>followers</th>\n",
       "      <th>topic</th>\n",
       "      <th>columns</th>\n",
       "      <th>sex</th>\n",
       "      <th>weibo</th>\n",
       "    </tr>\n",
       "  </thead>\n",
       "  <tbody>\n",
       "    <tr>\n",
       "      <th>headline</th>\n",
       "      <td>1.000000</td>\n",
       "      <td>0.007069</td>\n",
       "      <td>0.050166</td>\n",
       "      <td>0.027592</td>\n",
       "      <td>0.104683</td>\n",
       "      <td>0.035368</td>\n",
       "      <td>0.036145</td>\n",
       "      <td>0.063054</td>\n",
       "      <td>0.023301</td>\n",
       "      <td>0.062965</td>\n",
       "      <td>0.062504</td>\n",
       "      <td>0.059648</td>\n",
       "      <td>0.077636</td>\n",
       "    </tr>\n",
       "    <tr>\n",
       "      <th>answer</th>\n",
       "      <td>0.007069</td>\n",
       "      <td>1.000000</td>\n",
       "      <td>0.017870</td>\n",
       "      <td>0.007139</td>\n",
       "      <td>-0.000693</td>\n",
       "      <td>0.011082</td>\n",
       "      <td>0.012663</td>\n",
       "      <td>0.006213</td>\n",
       "      <td>0.007497</td>\n",
       "      <td>0.067946</td>\n",
       "      <td>0.008223</td>\n",
       "      <td>0.317301</td>\n",
       "      <td>0.010701</td>\n",
       "    </tr>\n",
       "    <tr>\n",
       "      <th>question</th>\n",
       "      <td>0.050166</td>\n",
       "      <td>0.017870</td>\n",
       "      <td>1.000000</td>\n",
       "      <td>0.111167</td>\n",
       "      <td>0.053464</td>\n",
       "      <td>0.112672</td>\n",
       "      <td>0.108385</td>\n",
       "      <td>0.105989</td>\n",
       "      <td>0.207824</td>\n",
       "      <td>0.069206</td>\n",
       "      <td>0.078586</td>\n",
       "      <td>0.031045</td>\n",
       "      <td>0.037054</td>\n",
       "    </tr>\n",
       "    <tr>\n",
       "      <th>article</th>\n",
       "      <td>0.027592</td>\n",
       "      <td>0.007139</td>\n",
       "      <td>0.111167</td>\n",
       "      <td>1.000000</td>\n",
       "      <td>0.009742</td>\n",
       "      <td>0.216272</td>\n",
       "      <td>0.185407</td>\n",
       "      <td>0.042791</td>\n",
       "      <td>0.211181</td>\n",
       "      <td>0.011130</td>\n",
       "      <td>0.033406</td>\n",
       "      <td>0.012496</td>\n",
       "      <td>0.030839</td>\n",
       "    </tr>\n",
       "    <tr>\n",
       "      <th>favorite</th>\n",
       "      <td>0.104683</td>\n",
       "      <td>-0.000693</td>\n",
       "      <td>0.053464</td>\n",
       "      <td>0.009742</td>\n",
       "      <td>1.000000</td>\n",
       "      <td>0.019385</td>\n",
       "      <td>0.022499</td>\n",
       "      <td>0.146775</td>\n",
       "      <td>0.014154</td>\n",
       "      <td>0.118495</td>\n",
       "      <td>0.179394</td>\n",
       "      <td>0.070163</td>\n",
       "      <td>0.046808</td>\n",
       "    </tr>\n",
       "    <tr>\n",
       "      <th>agree</th>\n",
       "      <td>0.035368</td>\n",
       "      <td>0.011082</td>\n",
       "      <td>0.112672</td>\n",
       "      <td>0.216272</td>\n",
       "      <td>0.019385</td>\n",
       "      <td>1.000000</td>\n",
       "      <td>0.962783</td>\n",
       "      <td>0.071000</td>\n",
       "      <td>0.638239</td>\n",
       "      <td>0.011662</td>\n",
       "      <td>0.030571</td>\n",
       "      <td>0.018384</td>\n",
       "      <td>0.031261</td>\n",
       "    </tr>\n",
       "    <tr>\n",
       "      <th>thanked</th>\n",
       "      <td>0.036145</td>\n",
       "      <td>0.012663</td>\n",
       "      <td>0.108385</td>\n",
       "      <td>0.185407</td>\n",
       "      <td>0.022499</td>\n",
       "      <td>0.962783</td>\n",
       "      <td>1.000000</td>\n",
       "      <td>0.071152</td>\n",
       "      <td>0.657633</td>\n",
       "      <td>0.014661</td>\n",
       "      <td>0.031550</td>\n",
       "      <td>0.019969</td>\n",
       "      <td>0.032737</td>\n",
       "    </tr>\n",
       "    <tr>\n",
       "      <th>following</th>\n",
       "      <td>0.063054</td>\n",
       "      <td>0.006213</td>\n",
       "      <td>0.105989</td>\n",
       "      <td>0.042791</td>\n",
       "      <td>0.146775</td>\n",
       "      <td>0.071000</td>\n",
       "      <td>0.071152</td>\n",
       "      <td>1.000000</td>\n",
       "      <td>0.064174</td>\n",
       "      <td>0.282933</td>\n",
       "      <td>0.384777</td>\n",
       "      <td>0.091206</td>\n",
       "      <td>0.015597</td>\n",
       "    </tr>\n",
       "    <tr>\n",
       "      <th>followers</th>\n",
       "      <td>0.023301</td>\n",
       "      <td>0.007497</td>\n",
       "      <td>0.207824</td>\n",
       "      <td>0.211181</td>\n",
       "      <td>0.014154</td>\n",
       "      <td>0.638239</td>\n",
       "      <td>0.657633</td>\n",
       "      <td>0.064174</td>\n",
       "      <td>1.000000</td>\n",
       "      <td>0.010848</td>\n",
       "      <td>0.034765</td>\n",
       "      <td>0.010742</td>\n",
       "      <td>0.031062</td>\n",
       "    </tr>\n",
       "    <tr>\n",
       "      <th>topic</th>\n",
       "      <td>0.062965</td>\n",
       "      <td>0.067946</td>\n",
       "      <td>0.069206</td>\n",
       "      <td>0.011130</td>\n",
       "      <td>0.118495</td>\n",
       "      <td>0.011662</td>\n",
       "      <td>0.014661</td>\n",
       "      <td>0.282933</td>\n",
       "      <td>0.010848</td>\n",
       "      <td>1.000000</td>\n",
       "      <td>0.363862</td>\n",
       "      <td>0.066710</td>\n",
       "      <td>0.029325</td>\n",
       "    </tr>\n",
       "    <tr>\n",
       "      <th>columns</th>\n",
       "      <td>0.062504</td>\n",
       "      <td>0.008223</td>\n",
       "      <td>0.078586</td>\n",
       "      <td>0.033406</td>\n",
       "      <td>0.179394</td>\n",
       "      <td>0.030571</td>\n",
       "      <td>0.031550</td>\n",
       "      <td>0.384777</td>\n",
       "      <td>0.034765</td>\n",
       "      <td>0.363862</td>\n",
       "      <td>1.000000</td>\n",
       "      <td>0.074365</td>\n",
       "      <td>0.036252</td>\n",
       "    </tr>\n",
       "    <tr>\n",
       "      <th>sex</th>\n",
       "      <td>0.059648</td>\n",
       "      <td>0.317301</td>\n",
       "      <td>0.031045</td>\n",
       "      <td>0.012496</td>\n",
       "      <td>0.070163</td>\n",
       "      <td>0.018384</td>\n",
       "      <td>0.019969</td>\n",
       "      <td>0.091206</td>\n",
       "      <td>0.010742</td>\n",
       "      <td>0.066710</td>\n",
       "      <td>0.074365</td>\n",
       "      <td>1.000000</td>\n",
       "      <td>0.101111</td>\n",
       "    </tr>\n",
       "    <tr>\n",
       "      <th>weibo</th>\n",
       "      <td>0.077636</td>\n",
       "      <td>0.010701</td>\n",
       "      <td>0.037054</td>\n",
       "      <td>0.030839</td>\n",
       "      <td>0.046808</td>\n",
       "      <td>0.031261</td>\n",
       "      <td>0.032737</td>\n",
       "      <td>0.015597</td>\n",
       "      <td>0.031062</td>\n",
       "      <td>0.029325</td>\n",
       "      <td>0.036252</td>\n",
       "      <td>0.101111</td>\n",
       "      <td>1.000000</td>\n",
       "    </tr>\n",
       "  </tbody>\n",
       "</table>\n",
       "</div>"
      ],
      "text/plain": [
       "           headline    answer  question   article  favorite     agree  \\\n",
       "headline   1.000000  0.007069  0.050166  0.027592  0.104683  0.035368   \n",
       "answer     0.007069  1.000000  0.017870  0.007139 -0.000693  0.011082   \n",
       "question   0.050166  0.017870  1.000000  0.111167  0.053464  0.112672   \n",
       "article    0.027592  0.007139  0.111167  1.000000  0.009742  0.216272   \n",
       "favorite   0.104683 -0.000693  0.053464  0.009742  1.000000  0.019385   \n",
       "agree      0.035368  0.011082  0.112672  0.216272  0.019385  1.000000   \n",
       "thanked    0.036145  0.012663  0.108385  0.185407  0.022499  0.962783   \n",
       "following  0.063054  0.006213  0.105989  0.042791  0.146775  0.071000   \n",
       "followers  0.023301  0.007497  0.207824  0.211181  0.014154  0.638239   \n",
       "topic      0.062965  0.067946  0.069206  0.011130  0.118495  0.011662   \n",
       "columns    0.062504  0.008223  0.078586  0.033406  0.179394  0.030571   \n",
       "sex        0.059648  0.317301  0.031045  0.012496  0.070163  0.018384   \n",
       "weibo      0.077636  0.010701  0.037054  0.030839  0.046808  0.031261   \n",
       "\n",
       "            thanked  following  followers     topic   columns       sex  \\\n",
       "headline   0.036145   0.063054   0.023301  0.062965  0.062504  0.059648   \n",
       "answer     0.012663   0.006213   0.007497  0.067946  0.008223  0.317301   \n",
       "question   0.108385   0.105989   0.207824  0.069206  0.078586  0.031045   \n",
       "article    0.185407   0.042791   0.211181  0.011130  0.033406  0.012496   \n",
       "favorite   0.022499   0.146775   0.014154  0.118495  0.179394  0.070163   \n",
       "agree      0.962783   0.071000   0.638239  0.011662  0.030571  0.018384   \n",
       "thanked    1.000000   0.071152   0.657633  0.014661  0.031550  0.019969   \n",
       "following  0.071152   1.000000   0.064174  0.282933  0.384777  0.091206   \n",
       "followers  0.657633   0.064174   1.000000  0.010848  0.034765  0.010742   \n",
       "topic      0.014661   0.282933   0.010848  1.000000  0.363862  0.066710   \n",
       "columns    0.031550   0.384777   0.034765  0.363862  1.000000  0.074365   \n",
       "sex        0.019969   0.091206   0.010742  0.066710  0.074365  1.000000   \n",
       "weibo      0.032737   0.015597   0.031062  0.029325  0.036252  0.101111   \n",
       "\n",
       "              weibo  \n",
       "headline   0.077636  \n",
       "answer     0.010701  \n",
       "question   0.037054  \n",
       "article    0.030839  \n",
       "favorite   0.046808  \n",
       "agree      0.031261  \n",
       "thanked    0.032737  \n",
       "following  0.015597  \n",
       "followers  0.031062  \n",
       "topic      0.029325  \n",
       "columns    0.036252  \n",
       "sex        0.101111  \n",
       "weibo      1.000000  "
      ]
     },
     "execution_count": 48,
     "metadata": {},
     "output_type": "execute_result"
    }
   ],
   "source": [
    "users_info.corr()"
   ]
  },
  {
   "cell_type": "code",
   "execution_count": 20,
   "metadata": {},
   "outputs": [
    {
     "name": "stderr",
     "output_type": "stream",
     "text": [
      "/software/Anaconda3-5.1.0-el7-x86_64/lib/python3.6/site-packages/matplotlib/axes/_axes.py:6462: UserWarning: The 'normed' kwarg is deprecated, and has been replaced by the 'density' kwarg.\n",
      "  warnings.warn(\"The 'normed' kwarg is deprecated, and has been \"\n"
     ]
    },
    {
     "data": {
      "image/png": "[encoded data removed]",
      "text/plain": [
       "<Figure size 432x288 with 1 Axes>"
      ]
     },
     "metadata": {},
     "output_type": "display_data"
    }
   ],
   "source": [
    "import seaborn as sns\n",
    "import numpy as np\n",
    "from scipy import stats, integrate\n",
    "%matplotlib inline\n",
    "\n",
    "sns.set(color_codes=True)\n",
    "sns_dist_followers = sns.distplot(users_info['followers'][users_info['followers'] <100]).\\\n",
    "    set_title('Distribution of following')\n",
    "fig = sns_dist_followers.get_figure()\n",
    "fig.savefig(\"sns_dist_followers.png\")"
   ]
  },
  {
   "cell_type": "code",
   "execution_count": 22,
   "metadata": {
    "scrolled": true
   },
   "outputs": [
    {
     "name": "stderr",
     "output_type": "stream",
     "text": [
      "/software/Anaconda3-5.1.0-el7-x86_64/lib/python3.6/site-packages/matplotlib/axes/_axes.py:6462: UserWarning: The 'normed' kwarg is deprecated, and has been replaced by the 'density' kwarg.\n",
      "  warnings.warn(\"The 'normed' kwarg is deprecated, and has been \"\n"
     ]
    },
    {
     "data": {
      "text/plain": [
       "<matplotlib.axes._subplots.AxesSubplot at 0x7faab404f390>"
      ]
     },
     "execution_count": 22,
     "metadata": {},
     "output_type": "execute_result"
    },
    {
     "data": {
      "image/png": "[encoded data removed]",
      "text/plain": [
       "<Figure size 432x288 with 1 Axes>"
      ]
     },
     "metadata": {},
     "output_type": "display_data"
    }
   ],
   "source": [
    "sns.distplot(users_info['following'][users_info['following'] < 1000])"
   ]
  },
  {
   "cell_type": "code",
   "execution_count": 58,
   "metadata": {},
   "outputs": [
    {
     "name": "stderr",
     "output_type": "stream",
     "text": [
      "/software/Anaconda3-5.1.0-el7-x86_64/lib/python3.6/site-packages/matplotlib/axes/_axes.py:6462: UserWarning: The 'normed' kwarg is deprecated, and has been replaced by the 'density' kwarg.\n",
      "  warnings.warn(\"The 'normed' kwarg is deprecated, and has been \"\n"
     ]
    },
    {
     "data": {
      "image/png": "[encoded data removed]",
      "text/plain": [
       "<Figure size 720x576 with 4 Axes>"
      ]
     },
     "metadata": {},
     "output_type": "display_data"
    }
   ],
   "source": [
    "fix, axes = plt.subplots(2,2, figsize=(10,8))\n",
    "\n",
    "sns.distplot(users_info['followers'][users_info['followers'] < 100], ax = axes[0,0])\n",
    "axes[0,0].set_xlim(0, 100)\n",
    "sns.distplot(users_info['followers'][users_info['followers'] > 10000], ax = axes[0,1])\n",
    "axes[0,1].set_xlim(10000)\n",
    "sns.distplot(users_info['following'][users_info['following'] < 1000], ax = axes[1,0])\n",
    "axes[1,0].set_xlim(0, 1000)\n",
    "sns.distplot(users_info['following'][users_info['following'] > 1000], ax = axes[1,1])\n",
    "axes[1,1].set_xlim(1000, 9000)\n",
    "\n",
    "plt.subplots_adjust(top = 0.9)\n",
    "fix.suptitle('Density plot of followers and following') \n",
    "plt.show()"
   ]
  },
  {
   "cell_type": "code",
   "execution_count": 45,
   "metadata": {},
   "outputs": [
    {
     "data": {
      "text/html": [
       "<div>\n",
       "<style scoped>\n",
       "    .dataframe tbody tr th:only-of-type {\n",
       "        vertical-align: middle;\n",
       "    }\n",
       "\n",
       "    .dataframe tbody tr th {\n",
       "        vertical-align: top;\n",
       "    }\n",
       "\n",
       "    .dataframe thead th {\n",
       "        text-align: right;\n",
       "    }\n",
       "</style>\n",
       "<table border=\"1\" class=\"dataframe\">\n",
       "  <thead>\n",
       "    <tr style=\"text-align: right;\">\n",
       "      <th></th>\n",
       "      <th>headline</th>\n",
       "      <th>answer</th>\n",
       "      <th>question</th>\n",
       "      <th>article</th>\n",
       "      <th>favorite</th>\n",
       "      <th>agree</th>\n",
       "      <th>thanked</th>\n",
       "      <th>following</th>\n",
       "      <th>followers</th>\n",
       "      <th>topic</th>\n",
       "      <th>columns</th>\n",
       "      <th>sex</th>\n",
       "      <th>weibo</th>\n",
       "    </tr>\n",
       "  </thead>\n",
       "  <tbody>\n",
       "    <tr>\n",
       "      <th>count</th>\n",
       "      <td>420949.000000</td>\n",
       "      <td>420949.000000</td>\n",
       "      <td>420949.000000</td>\n",
       "      <td>420949.000000</td>\n",
       "      <td>420949.000000</td>\n",
       "      <td>4.209490e+05</td>\n",
       "      <td>420949.000000</td>\n",
       "      <td>420949.000000</td>\n",
       "      <td>420949.000000</td>\n",
       "      <td>420949.000000</td>\n",
       "      <td>420949.000000</td>\n",
       "      <td>420949.000000</td>\n",
       "      <td>420949.000000</td>\n",
       "    </tr>\n",
       "    <tr>\n",
       "      <th>mean</th>\n",
       "      <td>0.605981</td>\n",
       "      <td>28.134161</td>\n",
       "      <td>1.961793</td>\n",
       "      <td>0.256884</td>\n",
       "      <td>4.718861</td>\n",
       "      <td>4.128856e+02</td>\n",
       "      <td>90.223823</td>\n",
       "      <td>156.428814</td>\n",
       "      <td>212.132660</td>\n",
       "      <td>45.994265</td>\n",
       "      <td>11.448947</td>\n",
       "      <td>0.833863</td>\n",
       "      <td>0.217920</td>\n",
       "    </tr>\n",
       "    <tr>\n",
       "      <th>std</th>\n",
       "      <td>0.488640</td>\n",
       "      <td>2593.264512</td>\n",
       "      <td>16.332524</td>\n",
       "      <td>6.098957</td>\n",
       "      <td>7.372886</td>\n",
       "      <td>7.556247e+03</td>\n",
       "      <td>1618.468812</td>\n",
       "      <td>337.841412</td>\n",
       "      <td>5781.427943</td>\n",
       "      <td>134.427720</td>\n",
       "      <td>33.053896</td>\n",
       "      <td>0.466400</td>\n",
       "      <td>0.412833</td>\n",
       "    </tr>\n",
       "    <tr>\n",
       "      <th>min</th>\n",
       "      <td>0.000000</td>\n",
       "      <td>0.000000</td>\n",
       "      <td>0.000000</td>\n",
       "      <td>0.000000</td>\n",
       "      <td>0.000000</td>\n",
       "      <td>0.000000e+00</td>\n",
       "      <td>0.000000</td>\n",
       "      <td>0.000000</td>\n",
       "      <td>0.000000</td>\n",
       "      <td>0.000000</td>\n",
       "      <td>0.000000</td>\n",
       "      <td>0.000000</td>\n",
       "      <td>0.000000</td>\n",
       "    </tr>\n",
       "    <tr>\n",
       "      <th>25%</th>\n",
       "      <td>0.000000</td>\n",
       "      <td>0.000000</td>\n",
       "      <td>0.000000</td>\n",
       "      <td>0.000000</td>\n",
       "      <td>0.000000</td>\n",
       "      <td>0.000000e+00</td>\n",
       "      <td>0.000000</td>\n",
       "      <td>20.000000</td>\n",
       "      <td>1.000000</td>\n",
       "      <td>8.000000</td>\n",
       "      <td>0.000000</td>\n",
       "      <td>1.000000</td>\n",
       "      <td>0.000000</td>\n",
       "    </tr>\n",
       "    <tr>\n",
       "      <th>50%</th>\n",
       "      <td>1.000000</td>\n",
       "      <td>1.000000</td>\n",
       "      <td>0.000000</td>\n",
       "      <td>0.000000</td>\n",
       "      <td>2.000000</td>\n",
       "      <td>0.000000e+00</td>\n",
       "      <td>0.000000</td>\n",
       "      <td>67.000000</td>\n",
       "      <td>3.000000</td>\n",
       "      <td>21.000000</td>\n",
       "      <td>3.000000</td>\n",
       "      <td>1.000000</td>\n",
       "      <td>0.000000</td>\n",
       "    </tr>\n",
       "    <tr>\n",
       "      <th>75%</th>\n",
       "      <td>1.000000</td>\n",
       "      <td>8.000000</td>\n",
       "      <td>1.000000</td>\n",
       "      <td>0.000000</td>\n",
       "      <td>6.000000</td>\n",
       "      <td>1.200000e+01</td>\n",
       "      <td>4.000000</td>\n",
       "      <td>172.000000</td>\n",
       "      <td>11.000000</td>\n",
       "      <td>47.000000</td>\n",
       "      <td>11.000000</td>\n",
       "      <td>1.000000</td>\n",
       "      <td>0.000000</td>\n",
       "    </tr>\n",
       "    <tr>\n",
       "      <th>max</th>\n",
       "      <td>1.000000</td>\n",
       "      <td>669118.000000</td>\n",
       "      <td>3181.000000</td>\n",
       "      <td>1344.000000</td>\n",
       "      <td>239.000000</td>\n",
       "      <td>1.218509e+06</td>\n",
       "      <td>304153.000000</td>\n",
       "      <td>43932.000000</td>\n",
       "      <td>981917.000000</td>\n",
       "      <td>22122.000000</td>\n",
       "      <td>4042.000000</td>\n",
       "      <td>171.000000</td>\n",
       "      <td>1.000000</td>\n",
       "    </tr>\n",
       "  </tbody>\n",
       "</table>\n",
       "</div>"
      ],
      "text/plain": [
       "            headline         answer       question        article  \\\n",
       "count  420949.000000  420949.000000  420949.000000  420949.000000   \n",
       "mean        0.605981      28.134161       1.961793       0.256884   \n",
       "std         0.488640    2593.264512      16.332524       6.098957   \n",
       "min         0.000000       0.000000       0.000000       0.000000   \n",
       "25%         0.000000       0.000000       0.000000       0.000000   \n",
       "50%         1.000000       1.000000       0.000000       0.000000   \n",
       "75%         1.000000       8.000000       1.000000       0.000000   \n",
       "max         1.000000  669118.000000    3181.000000    1344.000000   \n",
       "\n",
       "            favorite         agree        thanked      following  \\\n",
       "count  420949.000000  4.209490e+05  420949.000000  420949.000000   \n",
       "mean        4.718861  4.128856e+02      90.223823     156.428814   \n",
       "std         7.372886  7.556247e+03    1618.468812     337.841412   \n",
       "min         0.000000  0.000000e+00       0.000000       0.000000   \n",
       "25%         0.000000  0.000000e+00       0.000000      20.000000   \n",
       "50%         2.000000  0.000000e+00       0.000000      67.000000   \n",
       "75%         6.000000  1.200000e+01       4.000000     172.000000   \n",
       "max       239.000000  1.218509e+06  304153.000000   43932.000000   \n",
       "\n",
       "           followers          topic        columns            sex  \\\n",
       "count  420949.000000  420949.000000  420949.000000  420949.000000   \n",
       "mean      212.132660      45.994265      11.448947       0.833863   \n",
       "std      5781.427943     134.427720      33.053896       0.466400   \n",
       "min         0.000000       0.000000       0.000000       0.000000   \n",
       "25%         1.000000       8.000000       0.000000       1.000000   \n",
       "50%         3.000000      21.000000       3.000000       1.000000   \n",
       "75%        11.000000      47.000000      11.000000       1.000000   \n",
       "max    981917.000000   22122.000000    4042.000000     171.000000   \n",
       "\n",
       "               weibo  \n",
       "count  420949.000000  \n",
       "mean        0.217920  \n",
       "std         0.412833  \n",
       "min         0.000000  \n",
       "25%         0.000000  \n",
       "50%         0.000000  \n",
       "75%         0.000000  \n",
       "max         1.000000  "
      ]
     },
     "execution_count": 45,
     "metadata": {},
     "output_type": "execute_result"
    }
   ],
   "source": [
    "users_info.describe()"
   ]
  },
  {
   "cell_type": "code",
   "execution_count": 4,
   "metadata": {},
   "outputs": [
    {
     "data": {
      "text/html": [
       "<div>\n",
       "<style scoped>\n",
       "    .dataframe tbody tr th:only-of-type {\n",
       "        vertical-align: middle;\n",
       "    }\n",
       "\n",
       "    .dataframe tbody tr th {\n",
       "        vertical-align: top;\n",
       "    }\n",
       "\n",
       "    .dataframe thead th {\n",
       "        text-align: right;\n",
       "    }\n",
       "</style>\n",
       "<table border=\"1\" class=\"dataframe\">\n",
       "  <thead>\n",
       "    <tr style=\"text-align: right;\">\n",
       "      <th></th>\n",
       "      <th>name</th>\n",
       "      <th>headline</th>\n",
       "      <th>answer</th>\n",
       "      <th>question</th>\n",
       "      <th>article</th>\n",
       "      <th>favorite</th>\n",
       "      <th>agree</th>\n",
       "      <th>thanked</th>\n",
       "      <th>following</th>\n",
       "      <th>followers</th>\n",
       "      <th>topic</th>\n",
       "      <th>columns</th>\n",
       "      <th>sex</th>\n",
       "      <th>weibo</th>\n",
       "    </tr>\n",
       "    <tr>\n",
       "      <th>user_id</th>\n",
       "      <th></th>\n",
       "      <th></th>\n",
       "      <th></th>\n",
       "      <th></th>\n",
       "      <th></th>\n",
       "      <th></th>\n",
       "      <th></th>\n",
       "      <th></th>\n",
       "      <th></th>\n",
       "      <th></th>\n",
       "      <th></th>\n",
       "      <th></th>\n",
       "      <th></th>\n",
       "      <th></th>\n",
       "    </tr>\n",
       "  </thead>\n",
       "  <tbody>\n",
       "    <tr>\n",
       "      <th>430741</th>\n",
       "      <td>李开复</td>\n",
       "      <td>0</td>\n",
       "      <td>107</td>\n",
       "      <td>6</td>\n",
       "      <td>1</td>\n",
       "      <td>0</td>\n",
       "      <td>96117</td>\n",
       "      <td>22401</td>\n",
       "      <td>201</td>\n",
       "      <td>981917</td>\n",
       "      <td>28</td>\n",
       "      <td>0</td>\n",
       "      <td>0</td>\n",
       "      <td>1</td>\n",
       "    </tr>\n",
       "    <tr>\n",
       "      <th>339335</th>\n",
       "      <td>黄继新</td>\n",
       "      <td>1</td>\n",
       "      <td>782</td>\n",
       "      <td>1334</td>\n",
       "      <td>95</td>\n",
       "      <td>44</td>\n",
       "      <td>75274</td>\n",
       "      <td>20039</td>\n",
       "      <td>9608</td>\n",
       "      <td>789897</td>\n",
       "      <td>135</td>\n",
       "      <td>635</td>\n",
       "      <td>1</td>\n",
       "      <td>1</td>\n",
       "    </tr>\n",
       "    <tr>\n",
       "      <th>392321</th>\n",
       "      <td>周源</td>\n",
       "      <td>1</td>\n",
       "      <td>341</td>\n",
       "      <td>612</td>\n",
       "      <td>8</td>\n",
       "      <td>7</td>\n",
       "      <td>42553</td>\n",
       "      <td>10132</td>\n",
       "      <td>1876</td>\n",
       "      <td>752113</td>\n",
       "      <td>160</td>\n",
       "      <td>154</td>\n",
       "      <td>1</td>\n",
       "      <td>0</td>\n",
       "    </tr>\n",
       "    <tr>\n",
       "      <th>675267</th>\n",
       "      <td>yolfilm</td>\n",
       "      <td>1</td>\n",
       "      <td>1509</td>\n",
       "      <td>106</td>\n",
       "      <td>2</td>\n",
       "      <td>10</td>\n",
       "      <td>835981</td>\n",
       "      <td>198641</td>\n",
       "      <td>226</td>\n",
       "      <td>732463</td>\n",
       "      <td>134</td>\n",
       "      <td>59</td>\n",
       "      <td>1</td>\n",
       "      <td>1</td>\n",
       "    </tr>\n",
       "    <tr>\n",
       "      <th>337598</th>\n",
       "      <td>张亮</td>\n",
       "      <td>1</td>\n",
       "      <td>1407</td>\n",
       "      <td>1711</td>\n",
       "      <td>98</td>\n",
       "      <td>4</td>\n",
       "      <td>187148</td>\n",
       "      <td>39908</td>\n",
       "      <td>2218</td>\n",
       "      <td>697974</td>\n",
       "      <td>104</td>\n",
       "      <td>88</td>\n",
       "      <td>1</td>\n",
       "      <td>1</td>\n",
       "    </tr>\n",
       "    <tr>\n",
       "      <th>392163</th>\n",
       "      <td>李淼</td>\n",
       "      <td>0</td>\n",
       "      <td>1157</td>\n",
       "      <td>47</td>\n",
       "      <td>121</td>\n",
       "      <td>5</td>\n",
       "      <td>347455</td>\n",
       "      <td>67016</td>\n",
       "      <td>756</td>\n",
       "      <td>623385</td>\n",
       "      <td>196</td>\n",
       "      <td>55</td>\n",
       "      <td>1</td>\n",
       "      <td>1</td>\n",
       "    </tr>\n",
       "    <tr>\n",
       "      <th>420717</th>\n",
       "      <td>采铜</td>\n",
       "      <td>1</td>\n",
       "      <td>981</td>\n",
       "      <td>101</td>\n",
       "      <td>75</td>\n",
       "      <td>11</td>\n",
       "      <td>569696</td>\n",
       "      <td>134148</td>\n",
       "      <td>1050</td>\n",
       "      <td>580736</td>\n",
       "      <td>26</td>\n",
       "      <td>94</td>\n",
       "      <td>1</td>\n",
       "      <td>1</td>\n",
       "    </tr>\n",
       "    <tr>\n",
       "      <th>384961</th>\n",
       "      <td>葛巾</td>\n",
       "      <td>1</td>\n",
       "      <td>34</td>\n",
       "      <td>1</td>\n",
       "      <td>14</td>\n",
       "      <td>0</td>\n",
       "      <td>168827</td>\n",
       "      <td>47313</td>\n",
       "      <td>312</td>\n",
       "      <td>580650</td>\n",
       "      <td>11</td>\n",
       "      <td>6</td>\n",
       "      <td>1</td>\n",
       "      <td>1</td>\n",
       "    </tr>\n",
       "    <tr>\n",
       "      <th>367420</th>\n",
       "      <td>朱炫</td>\n",
       "      <td>1</td>\n",
       "      <td>196</td>\n",
       "      <td>4</td>\n",
       "      <td>47</td>\n",
       "      <td>2</td>\n",
       "      <td>1128626</td>\n",
       "      <td>245011</td>\n",
       "      <td>204</td>\n",
       "      <td>579459</td>\n",
       "      <td>37</td>\n",
       "      <td>12</td>\n",
       "      <td>1</td>\n",
       "      <td>1</td>\n",
       "    </tr>\n",
       "    <tr>\n",
       "      <th>392249</th>\n",
       "      <td>maggie</td>\n",
       "      <td>1</td>\n",
       "      <td>591</td>\n",
       "      <td>84</td>\n",
       "      <td>14</td>\n",
       "      <td>13</td>\n",
       "      <td>168648</td>\n",
       "      <td>63614</td>\n",
       "      <td>593</td>\n",
       "      <td>552459</td>\n",
       "      <td>32</td>\n",
       "      <td>43</td>\n",
       "      <td>1</td>\n",
       "      <td>1</td>\n",
       "    </tr>\n",
       "  </tbody>\n",
       "</table>\n",
       "</div>"
      ],
      "text/plain": [
       "            name  headline  answer  question  article  favorite    agree  \\\n",
       "user_id                                                                    \n",
       "430741       李开复         0     107         6        1         0    96117   \n",
       "339335       黄继新         1     782      1334       95        44    75274   \n",
       "392321        周源         1     341       612        8         7    42553   \n",
       "675267   yolfilm         1    1509       106        2        10   835981   \n",
       "337598        张亮         1    1407      1711       98         4   187148   \n",
       "392163        李淼         0    1157        47      121         5   347455   \n",
       "420717        采铜         1     981       101       75        11   569696   \n",
       "384961        葛巾         1      34         1       14         0   168827   \n",
       "367420        朱炫         1     196         4       47         2  1128626   \n",
       "392249    maggie         1     591        84       14        13   168648   \n",
       "\n",
       "         thanked  following  followers  topic  columns  sex  weibo  \n",
       "user_id                                                             \n",
       "430741     22401        201     981917     28        0    0      1  \n",
       "339335     20039       9608     789897    135      635    1      1  \n",
       "392321     10132       1876     752113    160      154    1      0  \n",
       "675267    198641        226     732463    134       59    1      1  \n",
       "337598     39908       2218     697974    104       88    1      1  \n",
       "392163     67016        756     623385    196       55    1      1  \n",
       "420717    134148       1050     580736     26       94    1      1  \n",
       "384961     47313        312     580650     11        6    1      1  \n",
       "367420    245011        204     579459     37       12    1      1  \n",
       "392249     63614        593     552459     32       43    1      1  "
      ]
     },
     "execution_count": 4,
     "metadata": {},
     "output_type": "execute_result"
    }
   ],
   "source": [
    "users_info.sort_values(by = ['followers'],ascending = False).head(10)"
   ]
  },
  {
   "cell_type": "code",
   "execution_count": 3,
   "metadata": {},
   "outputs": [],
   "source": [
    "import csv\n",
    "import numpy as np\n",
    "import pandas as pd\n",
    "\n",
    "result = []\n",
    "with open('./label_test.txt', 'r', encoding = \"utf-8\") as f:\n",
    "    reader = csv.reader(f)\n",
    "    for row in reader:\n",
    "        temp = row[0].split('(')\n",
    "for t in temp[1:]:\n",
    "    result += [t.split(')')[1].strip()]"
   ]
  },
  {
   "cell_type": "code",
   "execution_count": 4,
   "metadata": {},
   "outputs": [],
   "source": [
    "users_info['label'] = 0\n",
    "           \n",
    "for i in range(len(result)):\n",
    "    temp = users_info[users_info['name'] == result[i]]\n",
    "    if len(temp) == 0:\n",
    "        continue\n",
    "    if len(temp) == 1:\n",
    "        get = users_info[users_info['name'] == result[i]].index\n",
    "    if len(temp) > 1:\n",
    "        get = temp.sort_values(by = ['agree'],ascending = False).index[0]\n",
    "    users_info.loc[get, 'label'] = 1"
   ]
  },
  {
   "cell_type": "code",
   "execution_count": 7,
   "metadata": {},
   "outputs": [
    {
     "data": {
      "text/html": [
       "<div>\n",
       "<style scoped>\n",
       "    .dataframe tbody tr th:only-of-type {\n",
       "        vertical-align: middle;\n",
       "    }\n",
       "\n",
       "    .dataframe tbody tr th {\n",
       "        vertical-align: top;\n",
       "    }\n",
       "\n",
       "    .dataframe thead th {\n",
       "        text-align: right;\n",
       "    }\n",
       "</style>\n",
       "<table border=\"1\" class=\"dataframe\">\n",
       "  <thead>\n",
       "    <tr style=\"text-align: right;\">\n",
       "      <th></th>\n",
       "      <th>name</th>\n",
       "      <th>headline</th>\n",
       "      <th>answer</th>\n",
       "      <th>question</th>\n",
       "      <th>article</th>\n",
       "      <th>favorite</th>\n",
       "      <th>agree</th>\n",
       "      <th>thanked</th>\n",
       "      <th>following</th>\n",
       "      <th>followers</th>\n",
       "      <th>topic</th>\n",
       "      <th>columns</th>\n",
       "      <th>sex</th>\n",
       "      <th>weibo</th>\n",
       "      <th>label</th>\n",
       "    </tr>\n",
       "    <tr>\n",
       "      <th>user_id</th>\n",
       "      <th></th>\n",
       "      <th></th>\n",
       "      <th></th>\n",
       "      <th></th>\n",
       "      <th></th>\n",
       "      <th></th>\n",
       "      <th></th>\n",
       "      <th></th>\n",
       "      <th></th>\n",
       "      <th></th>\n",
       "      <th></th>\n",
       "      <th></th>\n",
       "      <th></th>\n",
       "      <th></th>\n",
       "      <th></th>\n",
       "    </tr>\n",
       "  </thead>\n",
       "  <tbody>\n",
       "    <tr>\n",
       "      <th>430741</th>\n",
       "      <td>李开复</td>\n",
       "      <td>0</td>\n",
       "      <td>107</td>\n",
       "      <td>6</td>\n",
       "      <td>1</td>\n",
       "      <td>0</td>\n",
       "      <td>96117</td>\n",
       "      <td>22401</td>\n",
       "      <td>201</td>\n",
       "      <td>981917</td>\n",
       "      <td>28</td>\n",
       "      <td>0</td>\n",
       "      <td>0</td>\n",
       "      <td>1</td>\n",
       "      <td>1</td>\n",
       "    </tr>\n",
       "    <tr>\n",
       "      <th>339335</th>\n",
       "      <td>黄继新</td>\n",
       "      <td>1</td>\n",
       "      <td>782</td>\n",
       "      <td>1334</td>\n",
       "      <td>95</td>\n",
       "      <td>44</td>\n",
       "      <td>75274</td>\n",
       "      <td>20039</td>\n",
       "      <td>9608</td>\n",
       "      <td>789897</td>\n",
       "      <td>135</td>\n",
       "      <td>635</td>\n",
       "      <td>1</td>\n",
       "      <td>1</td>\n",
       "      <td>1</td>\n",
       "    </tr>\n",
       "    <tr>\n",
       "      <th>392321</th>\n",
       "      <td>周源</td>\n",
       "      <td>1</td>\n",
       "      <td>341</td>\n",
       "      <td>612</td>\n",
       "      <td>8</td>\n",
       "      <td>7</td>\n",
       "      <td>42553</td>\n",
       "      <td>10132</td>\n",
       "      <td>1876</td>\n",
       "      <td>752113</td>\n",
       "      <td>160</td>\n",
       "      <td>154</td>\n",
       "      <td>1</td>\n",
       "      <td>0</td>\n",
       "      <td>1</td>\n",
       "    </tr>\n",
       "    <tr>\n",
       "      <th>675267</th>\n",
       "      <td>yolfilm</td>\n",
       "      <td>1</td>\n",
       "      <td>1509</td>\n",
       "      <td>106</td>\n",
       "      <td>2</td>\n",
       "      <td>10</td>\n",
       "      <td>835981</td>\n",
       "      <td>198641</td>\n",
       "      <td>226</td>\n",
       "      <td>732463</td>\n",
       "      <td>134</td>\n",
       "      <td>59</td>\n",
       "      <td>1</td>\n",
       "      <td>1</td>\n",
       "      <td>1</td>\n",
       "    </tr>\n",
       "    <tr>\n",
       "      <th>337598</th>\n",
       "      <td>张亮</td>\n",
       "      <td>1</td>\n",
       "      <td>1407</td>\n",
       "      <td>1711</td>\n",
       "      <td>98</td>\n",
       "      <td>4</td>\n",
       "      <td>187148</td>\n",
       "      <td>39908</td>\n",
       "      <td>2218</td>\n",
       "      <td>697974</td>\n",
       "      <td>104</td>\n",
       "      <td>88</td>\n",
       "      <td>1</td>\n",
       "      <td>1</td>\n",
       "      <td>1</td>\n",
       "    </tr>\n",
       "  </tbody>\n",
       "</table>\n",
       "</div>"
      ],
      "text/plain": [
       "            name  headline  answer  question  article  favorite   agree  \\\n",
       "user_id                                                                   \n",
       "430741       李开复         0     107         6        1         0   96117   \n",
       "339335       黄继新         1     782      1334       95        44   75274   \n",
       "392321        周源         1     341       612        8         7   42553   \n",
       "675267   yolfilm         1    1509       106        2        10  835981   \n",
       "337598        张亮         1    1407      1711       98         4  187148   \n",
       "\n",
       "         thanked  following  followers  topic  columns  sex  weibo  label  \n",
       "user_id                                                                    \n",
       "430741     22401        201     981917     28        0    0      1      1  \n",
       "339335     20039       9608     789897    135      635    1      1      1  \n",
       "392321     10132       1876     752113    160      154    1      0      1  \n",
       "675267    198641        226     732463    134       59    1      1      1  \n",
       "337598     39908       2218     697974    104       88    1      1      1  "
      ]
     },
     "execution_count": 7,
     "metadata": {},
     "output_type": "execute_result"
    }
   ],
   "source": [
    "users_info.sort_values(by = ['followers'],ascending = False).head()"
   ]
  },
  {
   "cell_type": "code",
   "execution_count": 10,
   "metadata": {},
   "outputs": [
    {
     "data": {
      "text/plain": [
       "RandomForestClassifier(bootstrap=True, class_weight=None, criterion='gini',\n",
       "            max_depth=None, max_features='auto', max_leaf_nodes=None,\n",
       "            min_impurity_decrease=0.0, min_impurity_split=None,\n",
       "            min_samples_leaf=1, min_samples_split=2,\n",
       "            min_weight_fraction_leaf=0.0, n_estimators=10, n_jobs=1,\n",
       "            oob_score=False, random_state=515, verbose=0, warm_start=False)"
      ]
     },
     "execution_count": 10,
     "metadata": {},
     "output_type": "execute_result"
    }
   ],
   "source": [
    "import numpy as np\n",
    "from sklearn.ensemble import RandomForestClassifier\n",
    "from sklearn.model_selection import cross_val_score\n",
    "\n",
    "users_info['is_train'] = np.random.uniform(0, 1, len(users_info)) <= .75\n",
    "train, test = users_info[users_info['is_train']==True], users_info[users_info['is_train']==False]\n",
    "\n",
    "features = users_info.columns[1:-2]\n",
    "y = pd.factorize(train['label'])[0]\n",
    "\n",
    "clf = RandomForestClassifier(random_state= 515)\n",
    "clf.fit(train[features], y)"
   ]
  },
  {
   "cell_type": "code",
   "execution_count": 11,
   "metadata": {},
   "outputs": [
    {
     "data": {
      "text/html": [
       "<div>\n",
       "<style scoped>\n",
       "    .dataframe tbody tr th:only-of-type {\n",
       "        vertical-align: middle;\n",
       "    }\n",
       "\n",
       "    .dataframe tbody tr th {\n",
       "        vertical-align: top;\n",
       "    }\n",
       "\n",
       "    .dataframe thead th {\n",
       "        text-align: right;\n",
       "    }\n",
       "</style>\n",
       "<table border=\"1\" class=\"dataframe\">\n",
       "  <thead>\n",
       "    <tr style=\"text-align: right;\">\n",
       "      <th>Predicted label</th>\n",
       "      <th>0</th>\n",
       "      <th>1</th>\n",
       "    </tr>\n",
       "    <tr>\n",
       "      <th>Actual label</th>\n",
       "      <th></th>\n",
       "      <th></th>\n",
       "    </tr>\n",
       "  </thead>\n",
       "  <tbody>\n",
       "    <tr>\n",
       "      <th>0</th>\n",
       "      <td>104384</td>\n",
       "      <td>16</td>\n",
       "    </tr>\n",
       "    <tr>\n",
       "      <th>1</th>\n",
       "      <td>81</td>\n",
       "      <td>87</td>\n",
       "    </tr>\n",
       "  </tbody>\n",
       "</table>\n",
       "</div>"
      ],
      "text/plain": [
       "Predicted label       0   1\n",
       "Actual label               \n",
       "0                104384  16\n",
       "1                    81  87"
      ]
     },
     "execution_count": 11,
     "metadata": {},
     "output_type": "execute_result"
    }
   ],
   "source": [
    "preds = clf.predict(test[features])\n",
    "pd.crosstab(test['label'], preds, rownames=['Actual label'], colnames=['Predicted label'])"
   ]
  },
  {
   "cell_type": "code",
   "execution_count": 12,
   "metadata": {},
   "outputs": [
    {
     "data": {
      "text/plain": [
       "[('headline', 0.007914121087131767),\n",
       " ('answer', 0.09379858876140724),\n",
       " ('question', 0.03803430866774436),\n",
       " ('article', 0.05372841940936458),\n",
       " ('favorite', 0.03540355436081758),\n",
       " ('agree', 0.2458276718952213),\n",
       " ('thanked', 0.206438409001564),\n",
       " ('following', 0.06284041613472212),\n",
       " ('followers', 0.14998015633770043),\n",
       " ('topic', 0.053743765109038034),\n",
       " ('columns', 0.0437919576510443),\n",
       " ('sex', 0.0008139945087197358),\n",
       " ('weibo', 0.007684637075524535)]"
      ]
     },
     "execution_count": 12,
     "metadata": {},
     "output_type": "execute_result"
    }
   ],
   "source": [
    "list(zip(train[features], clf.feature_importances_))"
   ]
  },
  {
   "cell_type": "code",
   "execution_count": 13,
   "metadata": {},
   "outputs": [
    {
     "name": "stdout",
     "output_type": "stream",
     "text": [
      "Scores = 0.9991466004610275\n"
     ]
    }
   ],
   "source": [
    "scores = cross_val_score(clf, train[features], pd.factorize(train['label'])[0], cv=10)\n",
    "print('Scores =', np.mean(scores))"
   ]
  },
  {
   "cell_type": "code",
   "execution_count": 14,
   "metadata": {},
   "outputs": [
    {
     "data": {
      "text/plain": [
       "RandomForestClassifier(bootstrap=True, class_weight={0: 1, 1: 10000000},\n",
       "            criterion='gini', max_depth=None, max_features='auto',\n",
       "            max_leaf_nodes=None, min_impurity_decrease=0.0,\n",
       "            min_impurity_split=None, min_samples_leaf=1,\n",
       "            min_samples_split=2, min_weight_fraction_leaf=0.0,\n",
       "            n_estimators=10, n_jobs=1, oob_score=False, random_state=515,\n",
       "            verbose=0, warm_start=False)"
      ]
     },
     "execution_count": 14,
     "metadata": {},
     "output_type": "execute_result"
    }
   ],
   "source": [
    "sample_weight = np.array([1000 if i == 1 else 1 for i in y])\n",
    "clf = RandomForestClassifier(class_weight={0:1, 1:10000000}, random_state= 515)\n",
    "clf.fit(train[features], y)"
   ]
  },
  {
   "cell_type": "code",
   "execution_count": 15,
   "metadata": {},
   "outputs": [
    {
     "data": {
      "text/html": [
       "<div>\n",
       "<style scoped>\n",
       "    .dataframe tbody tr th:only-of-type {\n",
       "        vertical-align: middle;\n",
       "    }\n",
       "\n",
       "    .dataframe tbody tr th {\n",
       "        vertical-align: top;\n",
       "    }\n",
       "\n",
       "    .dataframe thead th {\n",
       "        text-align: right;\n",
       "    }\n",
       "</style>\n",
       "<table border=\"1\" class=\"dataframe\">\n",
       "  <thead>\n",
       "    <tr style=\"text-align: right;\">\n",
       "      <th>Predicted label</th>\n",
       "      <th>0</th>\n",
       "      <th>1</th>\n",
       "    </tr>\n",
       "    <tr>\n",
       "      <th>Actual label</th>\n",
       "      <th></th>\n",
       "      <th></th>\n",
       "    </tr>\n",
       "  </thead>\n",
       "  <tbody>\n",
       "    <tr>\n",
       "      <th>0</th>\n",
       "      <td>104355</td>\n",
       "      <td>45</td>\n",
       "    </tr>\n",
       "    <tr>\n",
       "      <th>1</th>\n",
       "      <td>61</td>\n",
       "      <td>107</td>\n",
       "    </tr>\n",
       "  </tbody>\n",
       "</table>\n",
       "</div>"
      ],
      "text/plain": [
       "Predicted label       0    1\n",
       "Actual label                \n",
       "0                104355   45\n",
       "1                    61  107"
      ]
     },
     "execution_count": 15,
     "metadata": {},
     "output_type": "execute_result"
    }
   ],
   "source": [
    "preds = clf.predict(test[features])\n",
    "pd.crosstab(test['label'], preds, rownames=['Actual label'], colnames=['Predicted label'])"
   ]
  },
  {
   "cell_type": "code",
   "execution_count": 16,
   "metadata": {},
   "outputs": [
    {
     "data": {
      "text/plain": [
       "[('headline', 0.005670961379594788),\n",
       " ('answer', 0.07252017377547745),\n",
       " ('question', 0.06804940875111155),\n",
       " ('article', 0.005531717012397462),\n",
       " ('favorite', 0.11566758642920968),\n",
       " ('agree', 0.05840255819478417),\n",
       " ('thanked', 0.03294142917754948),\n",
       " ('following', 0.23700877160947548),\n",
       " ('followers', 0.08483787981502142),\n",
       " ('topic', 0.15636363939172127),\n",
       " ('columns', 0.11245455108930824),\n",
       " ('sex', 0.01571353495973991),\n",
       " ('weibo', 0.03483778841460898)]"
      ]
     },
     "execution_count": 16,
     "metadata": {},
     "output_type": "execute_result"
    }
   ],
   "source": [
    "list(zip(train[features], clf.feature_importances_))"
   ]
  },
  {
   "cell_type": "code",
   "execution_count": 17,
   "metadata": {},
   "outputs": [
    {
     "name": "stdout",
     "output_type": "stream",
     "text": [
      "Scores = 0.9990454572663492\n"
     ]
    }
   ],
   "source": [
    "scores = cross_val_score(clf, train[features], pd.factorize(train['label'])[0], cv=10)\n",
    "print('Scores =', np.mean(scores))"
   ]
  },
  {
   "cell_type": "code",
   "execution_count": 18,
   "metadata": {},
   "outputs": [
    {
     "data": {
      "text/plain": [
       "GridSearchCV(cv=5, error_score='raise',\n",
       "       estimator=RandomForestClassifier(bootstrap=True, class_weight=None, criterion='gini',\n",
       "            max_depth=None, max_features='auto', max_leaf_nodes=None,\n",
       "            min_impurity_decrease=0.0, min_impurity_split=None,\n",
       "            min_samples_leaf=1, min_samples_split=2,\n",
       "            min_weight_fraction_leaf=0.0, n_estimators=10, n_jobs=1,\n",
       "            oob_score=False, random_state=515, verbose=0, warm_start=False),\n",
       "       fit_params=None, iid=True, n_jobs=1,\n",
       "       param_grid={'max_depth': range(1, 6), 'min_samples_split': range(2, 6), 'min_samples_leaf': range(1, 6)},\n",
       "       pre_dispatch='2*n_jobs', refit=True, return_train_score='warn',\n",
       "       scoring='roc_auc', verbose=0)"
      ]
     },
     "execution_count": 18,
     "metadata": {},
     "output_type": "execute_result"
    }
   ],
   "source": [
    "from sklearn.model_selection import GridSearchCV\n",
    "param_test = {'max_depth':range(1,6), 'min_samples_split':range(2,6),'min_samples_leaf':range(1,6,1)}\n",
    "gsearch = GridSearchCV(estimator = RandomForestClassifier(random_state = 515), param_grid = param_test, scoring='roc_auc',cv=5)\n",
    "gsearch.fit(train[features], y)"
   ]
  },
  {
   "cell_type": "code",
   "execution_count": 19,
   "metadata": {},
   "outputs": [
    {
     "data": {
      "text/plain": [
       "{'max_depth': 5, 'min_samples_leaf': 2, 'min_samples_split': 2}"
      ]
     },
     "execution_count": 19,
     "metadata": {},
     "output_type": "execute_result"
    }
   ],
   "source": [
    "gsearch.best_params_"
   ]
  },
  {
   "cell_type": "code",
   "execution_count": 29,
   "metadata": {},
   "outputs": [],
   "source": [
    "clf = RandomForestClassifier(max_depth=5,min_samples_split=2, min_samples_leaf=2, random_state = 515)"
   ]
  },
  {
   "cell_type": "code",
   "execution_count": 30,
   "metadata": {},
   "outputs": [
    {
     "data": {
      "text/plain": [
       "RandomForestClassifier(bootstrap=True, class_weight=None, criterion='gini',\n",
       "            max_depth=5, max_features='auto', max_leaf_nodes=None,\n",
       "            min_impurity_decrease=0.0, min_impurity_split=None,\n",
       "            min_samples_leaf=2, min_samples_split=2,\n",
       "            min_weight_fraction_leaf=0.0, n_estimators=10, n_jobs=1,\n",
       "            oob_score=False, random_state=515, verbose=0, warm_start=False)"
      ]
     },
     "execution_count": 30,
     "metadata": {},
     "output_type": "execute_result"
    }
   ],
   "source": [
    "clf.fit(train[features], y)"
   ]
  },
  {
   "cell_type": "code",
   "execution_count": 31,
   "metadata": {},
   "outputs": [
    {
     "data": {
      "text/html": [
       "<div>\n",
       "<style scoped>\n",
       "    .dataframe tbody tr th:only-of-type {\n",
       "        vertical-align: middle;\n",
       "    }\n",
       "\n",
       "    .dataframe tbody tr th {\n",
       "        vertical-align: top;\n",
       "    }\n",
       "\n",
       "    .dataframe thead th {\n",
       "        text-align: right;\n",
       "    }\n",
       "</style>\n",
       "<table border=\"1\" class=\"dataframe\">\n",
       "  <thead>\n",
       "    <tr style=\"text-align: right;\">\n",
       "      <th>Predicted label</th>\n",
       "      <th>0</th>\n",
       "      <th>1</th>\n",
       "    </tr>\n",
       "    <tr>\n",
       "      <th>Actual label</th>\n",
       "      <th></th>\n",
       "      <th></th>\n",
       "    </tr>\n",
       "  </thead>\n",
       "  <tbody>\n",
       "    <tr>\n",
       "      <th>0</th>\n",
       "      <td>104382</td>\n",
       "      <td>18</td>\n",
       "    </tr>\n",
       "    <tr>\n",
       "      <th>1</th>\n",
       "      <td>75</td>\n",
       "      <td>93</td>\n",
       "    </tr>\n",
       "  </tbody>\n",
       "</table>\n",
       "</div>"
      ],
      "text/plain": [
       "Predicted label       0   1\n",
       "Actual label               \n",
       "0                104382  18\n",
       "1                    75  93"
      ]
     },
     "execution_count": 31,
     "metadata": {},
     "output_type": "execute_result"
    }
   ],
   "source": [
    "preds = clf.predict(test[features])\n",
    "pd.crosstab(test['label'], preds, rownames=['Actual label'], colnames=['Predicted label'])"
   ]
  },
  {
   "cell_type": "code",
   "execution_count": 32,
   "metadata": {},
   "outputs": [
    {
     "data": {
      "text/plain": [
       "[('headline', 0.0),\n",
       " ('answer', 0.09497535467470955),\n",
       " ('question', 0.013644706433880733),\n",
       " ('article', 0.05976656501097436),\n",
       " ('favorite', 0.004750309344517927),\n",
       " ('agree', 0.3991768802085714),\n",
       " ('thanked', 0.24543200331393455),\n",
       " ('following', 0.009302033444958557),\n",
       " ('followers', 0.15563365588862316),\n",
       " ('topic', 0.008758532844917793),\n",
       " ('columns', 0.007658725564628893),\n",
       " ('sex', 0.0002681387750208856),\n",
       " ('weibo', 0.0006330944952621808)]"
      ]
     },
     "execution_count": 32,
     "metadata": {},
     "output_type": "execute_result"
    }
   ],
   "source": [
    "list(zip(train[features], clf.feature_importances_))"
   ]
  },
  {
   "cell_type": "code",
   "execution_count": 33,
   "metadata": {},
   "outputs": [
    {
     "name": "stdout",
     "output_type": "stream",
     "text": [
      "Scores = 0.9992034941698982\n"
     ]
    }
   ],
   "source": [
    "scores = cross_val_score(clf, train[features], pd.factorize(train['label'])[0], cv=10)\n",
    "print('Scores =', np.mean(scores))"
   ]
  },
  {
   "cell_type": "code",
   "execution_count": 42,
   "metadata": {},
   "outputs": [
    {
     "data": {
      "text/plain": [
       "RandomForestClassifier(bootstrap=True, class_weight={0: 1, 1: 4},\n",
       "            criterion='gini', max_depth=5, max_features='auto',\n",
       "            max_leaf_nodes=None, min_impurity_decrease=0.0,\n",
       "            min_impurity_split=None, min_samples_leaf=2,\n",
       "            min_samples_split=2, min_weight_fraction_leaf=0.0,\n",
       "            n_estimators=10, n_jobs=1, oob_score=False, random_state=515,\n",
       "            verbose=0, warm_start=False)"
      ]
     },
     "execution_count": 42,
     "metadata": {},
     "output_type": "execute_result"
    }
   ],
   "source": [
    "clf = RandomForestClassifier(class_weight={0:1, 1:4}, max_depth=5,min_samples_split=2, min_samples_leaf=2, random_state = 515)\n",
    "clf.fit(train[features], y)"
   ]
  },
  {
   "cell_type": "code",
   "execution_count": 43,
   "metadata": {},
   "outputs": [
    {
     "data": {
      "text/html": [
       "<div>\n",
       "<style scoped>\n",
       "    .dataframe tbody tr th:only-of-type {\n",
       "        vertical-align: middle;\n",
       "    }\n",
       "\n",
       "    .dataframe tbody tr th {\n",
       "        vertical-align: top;\n",
       "    }\n",
       "\n",
       "    .dataframe thead th {\n",
       "        text-align: right;\n",
       "    }\n",
       "</style>\n",
       "<table border=\"1\" class=\"dataframe\">\n",
       "  <thead>\n",
       "    <tr style=\"text-align: right;\">\n",
       "      <th>Predicted label</th>\n",
       "      <th>0</th>\n",
       "      <th>1</th>\n",
       "    </tr>\n",
       "    <tr>\n",
       "      <th>Actual label</th>\n",
       "      <th></th>\n",
       "      <th></th>\n",
       "    </tr>\n",
       "  </thead>\n",
       "  <tbody>\n",
       "    <tr>\n",
       "      <th>0</th>\n",
       "      <td>104354</td>\n",
       "      <td>46</td>\n",
       "    </tr>\n",
       "    <tr>\n",
       "      <th>1</th>\n",
       "      <td>45</td>\n",
       "      <td>123</td>\n",
       "    </tr>\n",
       "  </tbody>\n",
       "</table>\n",
       "</div>"
      ],
      "text/plain": [
       "Predicted label       0    1\n",
       "Actual label                \n",
       "0                104354   46\n",
       "1                    45  123"
      ]
     },
     "execution_count": 43,
     "metadata": {},
     "output_type": "execute_result"
    }
   ],
   "source": [
    "preds = clf.predict(test[features])\n",
    "pd.crosstab(test['label'], preds, rownames=['Actual label'], colnames=['Predicted label'])"
   ]
  },
  {
   "cell_type": "code",
   "execution_count": 36,
   "metadata": {},
   "outputs": [
    {
     "data": {
      "text/plain": [
       "[('headline', 0.0),\n",
       " ('answer', 0.07203906562167758),\n",
       " ('question', 0.011242787718229424),\n",
       " ('article', 0.07009065190232293),\n",
       " ('favorite', 0.002448495155839994),\n",
       " ('agree', 0.3965585123374243),\n",
       " ('thanked', 0.2603108674108291),\n",
       " ('following', 0.00440783265573911),\n",
       " ('followers', 0.17463278640958307),\n",
       " ('topic', 0.003057715540069708),\n",
       " ('columns', 0.004856989559660019),\n",
       " ('sex', 4.560437483246264e-06),\n",
       " ('weibo', 0.0003497352511414846)]"
      ]
     },
     "execution_count": 36,
     "metadata": {},
     "output_type": "execute_result"
    }
   ],
   "source": [
    "list(zip(train[features], clf.feature_importances_))"
   ]
  },
  {
   "cell_type": "code",
   "execution_count": 37,
   "metadata": {},
   "outputs": [
    {
     "name": "stdout",
     "output_type": "stream",
     "text": [
      "Scores = 0.9990644221023931\n"
     ]
    }
   ],
   "source": [
    "scores = cross_val_score(clf, train[features], pd.factorize(train['label'])[0], cv=10)\n",
    "print('Scores =', np.mean(scores))"
   ]
  }
 ],
 "metadata": {
  "kernelspec": {
   "display_name": "Python 3",
   "language": "python",
   "name": "python3"
  },
  "language_info": {
   "codemirror_mode": {
    "name": "ipython",
    "version": 3
   },
   "file_extension": ".py",
   "mimetype": "text/x-python",
   "name": "python",
   "nbconvert_exporter": "python",
   "pygments_lexer": "ipython3",
   "version": "3.6.4"
  }
 },
 "nbformat": 4,
 "nbformat_minor": 2
}
